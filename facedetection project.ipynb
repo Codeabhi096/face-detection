{
 "cells": [
  {
   "cell_type": "code",
   "execution_count": 2,
   "id": "9b81ad58-e5dd-4a7f-8762-5b10d389dcd6",
   "metadata": {},
   "outputs": [],
   "source": [
    "import cv2"
   ]
  },
  {
   "cell_type": "code",
   "execution_count": 3,
   "id": "d4073e2e-86e0-4de7-95f3-5a1161d4f353",
   "metadata": {},
   "outputs": [],
   "source": [
    "import cv2\n",
    "\n",
    "def detect_face():\n",
    "    face_capture = cv2.CascadeClassifier(cv2.data.haarcascades + 'haarcascade_frontalface_default.xml')\n",
    "    video_capture = cv2.VideoCapture(0)\n",
    "\n",
    "    while True:\n",
    "        ret, video_data = video_capture.read()\n",
    "        col = cv2.cvtColor(video_data, cv2.COLOR_BGR2GRAY)\n",
    "\n",
    "        faces = face_capture.detectMultiScale(col, scaleFactor=1.1, minNeighbors=5, minSize=(30, 30))\n",
    "        \n",
    "        for (x, y, w, h) in faces:\n",
    "            cv2.rectangle(video_data, (x, y), (x+w, y+h), (0, 255, 0), 2)\n",
    "\n",
    "        cv2.imshow(\"video_live\", video_data)\n",
    "\n",
    "        if cv2.waitKey(10) == ord(\"a\"):\n",
    "            break\n",
    "\n",
    "    video_capture.release()\n",
    "    cv2.destroyAllWindows()\n",
    "\n",
    "detect_face()"
   ]
  },
  {
   "cell_type": "code",
   "execution_count": null,
   "id": "7e0ecec3-3bf4-425c-8316-f20cfbef641c",
   "metadata": {},
   "outputs": [],
   "source": []
  }
 ],
 "metadata": {
  "kernelspec": {
   "display_name": "Python 3 (ipykernel)",
   "language": "python",
   "name": "python3"
  },
  "language_info": {
   "codemirror_mode": {
    "name": "ipython",
    "version": 3
   },
   "file_extension": ".py",
   "mimetype": "text/x-python",
   "name": "python",
   "nbconvert_exporter": "python",
   "pygments_lexer": "ipython3",
   "version": "3.11.7"
  }
 },
 "nbformat": 4,
 "nbformat_minor": 5
}
